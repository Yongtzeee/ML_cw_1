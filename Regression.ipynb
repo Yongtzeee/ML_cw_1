{
 "cells": [
  {
   "cell_type": "markdown",
   "metadata": {
    "id": "aHfHXw3W4a8i"
   },
   "source": [
    "# TF 1.13.1 installation"
   ]
  },
  {
   "cell_type": "code",
   "execution_count": 6,
   "metadata": {
    "ExecuteTime": {
     "end_time": "2020-11-11T05:09:56.196561Z",
     "start_time": "2020-11-11T05:09:56.106573Z"
    },
    "colab": {
     "base_uri": "https://localhost:8080/"
    },
    "executionInfo": {
     "elapsed": 45562,
     "status": "ok",
     "timestamp": 1605065135615,
     "user": {
      "displayName": "Choong Jiachenn",
      "photoUrl": "",
      "userId": "05624262555196952372"
     },
     "user_tz": 0
    },
    "id": "f3_c3e3r4YPz",
    "outputId": "19f563a7-245f-479a-f4c2-0d9729fe4621"
   },
   "outputs": [
    {
     "name": "stdout",
     "output_type": "stream",
     "text": [
      "1.13.1\n"
     ]
    }
   ],
   "source": [
    "# install tensorflow version 1.13.1 as per assignment requirement\n",
    "!pip install tensorflow==1.13.1\n",
    "\n",
    "# check tensorflow version to make sure it is 1.13.1\n",
    "import tensorflow as tf\n",
    "print(tf.__version__)"
   ]
  },
  {
   "cell_type": "markdown",
   "metadata": {
    "id": "Pq5PmxIk37bA"
   },
   "source": [
    "# Data Exploration"
   ]
  },
  {
   "cell_type": "code",
   "execution_count": 8,
   "metadata": {
    "ExecuteTime": {
     "end_time": "2020-11-11T05:10:03.858077Z",
     "start_time": "2020-11-11T05:10:03.547728Z"
    },
    "colab": {
     "base_uri": "https://localhost:8080/",
     "height": 844
    },
    "executionInfo": {
     "elapsed": 43461,
     "status": "ok",
     "timestamp": 1605065136484,
     "user": {
      "displayName": "Choong Jiachenn",
      "photoUrl": "",
      "userId": "05624262555196952372"
     },
     "user_tz": 0
    },
    "id": "pjPpSNSu37bO",
    "outputId": "5fc467c5-1b87-468f-cbd9-31310bca30a7"
   },
   "outputs": [
    {
     "name": "stdout",
     "output_type": "stream",
     "text": [
      "(array([], dtype=int64),)\n",
      "(array([], dtype=int64),)\n",
      "6    2198\n",
      "5    1457\n",
      "7     880\n",
      "8     175\n",
      "4     163\n",
      "3      20\n",
      "9       5\n",
      "Name: quality, dtype: int64\n",
      "5    681\n",
      "6    638\n",
      "7    199\n",
      "4     53\n",
      "8     18\n",
      "3     10\n",
      "Name: quality, dtype: int64\n"
     ]
    },
    {
     "data": {
      "text/plain": [
       "<AxesSubplot:>"
      ]
     },
     "execution_count": 8,
     "metadata": {},
     "output_type": "execute_result"
    },
    {
     "data": {
      "image/png": "[encoded data removed]",
      "text/plain": [
       "<Figure size 432x288 with 1 Axes>"
      ]
     },
     "metadata": {
      "needs_background": "light"
     },
     "output_type": "display_data"
    },
    {
     "data": {
      "image/png": "[encoded data removed]",
      "text/plain": [
       "<Figure size 432x288 with 1 Axes>"
      ]
     },
     "metadata": {
      "needs_background": "light"
     },
     "output_type": "display_data"
    }
   ],
   "source": [
    "import pandas as pd\n",
    "import numpy as np\n",
    "import matplotlib.pyplot as plt\n",
    "\n",
    "# logging.getLogger('matplotlib.font_manager').disabled = True\n",
    "\n",
    "red_wine = pd.read_csv(\"winequality-red.csv\", sep=';')\n",
    "white_wine = pd.read_csv(\"winequality-white.csv\", sep=';')\n",
    "\n",
    "print(np.where(red_wine.isnull().any())) # missing values check\n",
    "print(np.where(white_wine.isnull().any())) \n",
    "\n",
    "print(white_wine[\"quality\"].value_counts())\n",
    "print(red_wine[\"quality\"].value_counts())\n",
    "\n",
    "w_wine_dict = white_wine[\"quality\"].value_counts().to_dict()\n",
    "r_wine_dict = red_wine[\"quality\"].value_counts().to_dict()\n",
    "\n",
    "plt.figure()\n",
    "red_wine[\"quality\"].hist()\n",
    "\n",
    "plt.figure()\n",
    "white_wine[\"quality\"].hist()"
   ]
  },
  {
   "cell_type": "markdown",
   "metadata": {
    "id": "6oWENJ112eOz"
   },
   "source": [
    "# Combine and normalize data\n"
   ]
  },
  {
   "cell_type": "code",
   "execution_count": 9,
   "metadata": {
    "ExecuteTime": {
     "end_time": "2020-11-11T05:10:06.642675Z",
     "start_time": "2020-11-11T05:10:06.585471Z"
    },
    "colab": {
     "base_uri": "https://localhost:8080/"
    },
    "executionInfo": {
     "elapsed": 897,
     "status": "ok",
     "timestamp": 1605067535448,
     "user": {
      "displayName": "Choong Jiachenn",
      "photoUrl": "",
      "userId": "05624262555196952372"
     },
     "user_tz": 0
    },
    "id": "NHN-LPVyWAN4",
    "outputId": "375644e4-12ed-4be8-bd67-483198ebf48a"
   },
   "outputs": [
    {
     "name": "stderr",
     "output_type": "stream",
     "text": [
      "C:\\Users\\hfyjc3\\.conda\\envs\\tensorflow_1\\lib\\site-packages\\pandas\\core\\generic.py:5168: SettingWithCopyWarning: \n",
      "A value is trying to be set on a copy of a slice from a DataFrame.\n",
      "Try using .loc[row_indexer,col_indexer] = value instead\n",
      "\n",
      "See the caveats in the documentation: https://pandas.pydata.org/pandas-docs/stable/user_guide/indexing.html#returning-a-view-versus-a-copy\n",
      "  self[name] = value\n"
     ]
    }
   ],
   "source": [
    "from sklearn import preprocessing\n",
    "from sklearn.model_selection import KFold, StratifiedKFold, StratifiedShuffleSplit, train_test_split\n",
    "from sklearn.metrics import mean_squared_error\n",
    "\n",
    "import math\n",
    "\n",
    "red_wine = pd.read_csv(\"winequality-red.csv\", sep=';')\n",
    "white_wine = pd.read_csv(\"winequality-white.csv\", sep=';')\n",
    "concat_df = pd.concat([red_wine, white_wine])\n",
    "\n",
    "dataset_params = {\n",
    "  \"total_dp\": 4000,\n",
    "  \"train\": 0.7,\n",
    "  \"valid\": 0.2,\n",
    "  \"test\": 0.1,    \n",
    "}\n",
    "\n",
    "# Normalize df values\n",
    "columns = list(concat_df.columns)\n",
    "min_max = preprocessing.MinMaxScaler()\n",
    "normalized = min_max.fit_transform(concat_df.values)\n",
    "concat_df_norm = pd.DataFrame(normalized, columns = columns)\n",
    "\n",
    "# Include all minority classes into the final df\n",
    "quality_classes = sorted(concat_df_norm.quality.unique().tolist())\n",
    "final_df = pd.DataFrame()\n",
    "tmp_list = []\n",
    "\n",
    "for i in quality_classes:\n",
    "  if concat_df_norm.quality.value_counts()[i] <= 1200:\n",
    "    dataset_params[\"total_dp\"] -= int(concat_df_norm.quality.value_counts()[i])\n",
    "    tmp_list.append(concat_df_norm.loc[concat_df_norm[\"quality\"] == i])\n",
    "    concat_df_norm.drop(concat_df_norm.loc[concat_df_norm.quality==i].index, inplace=True)\n",
    "\n",
    "remaining_classes = concat_df_norm.quality.unique().tolist()\n",
    "sample_per_class = int((dataset_params[\"total_dp\"])/len(remaining_classes))\n",
    "\n",
    "# Adding a balanced amount of each remaining class into the dataset \n",
    "for quality in concat_df_norm.quality.unique().tolist():\n",
    "  tmp_df = concat_df_norm.loc[concat_df_norm[\"quality\"]== quality]\n",
    "  tmp_list.append(tmp_df.sample(sample_per_class))\n",
    "\n",
    "final_df = pd.concat(tmp_list) \n",
    "\n",
    "# Splitting datasets\n",
    "final_train_df, final_test_df = train_test_split(final_df, train_size = 0.9, test_size = dataset_params[\"test\"]) # Train test split\n",
    "final_train_df, final_valid_df = train_test_split(final_train_df, train_size = dataset_params[\"train\"], test_size = dataset_params[\"valid\"]) # Train validation split\n",
    "\n",
    "# Round the quality column to 2dp\n",
    "final_train_df.quality = final_train_df.quality\n",
    "final_valid_df.quality = final_valid_df.quality\n",
    "final_test_df.quality = final_test_df.quality\n",
    "\n",
    "# Shuffle up dataframes\n",
    "final_train_df = final_train_df.sample(frac=1)\n",
    "final_valid_df = final_valid_df.sample(frac=1)\n",
    "final_test_df = final_test_df.sample(frac=1)"
   ]
  },
  {
   "cell_type": "markdown",
   "metadata": {
    "id": "gQ1jwt6WhQdQ"
   },
   "source": [
    "# Network\n"
   ]
  },
  {
   "cell_type": "code",
   "execution_count": 10,
   "metadata": {
    "ExecuteTime": {
     "end_time": "2020-11-11T05:10:09.515615Z",
     "start_time": "2020-11-11T05:10:09.501614Z"
    },
    "executionInfo": {
     "elapsed": 39657,
     "status": "ok",
     "timestamp": 1605065137589,
     "user": {
      "displayName": "Choong Jiachenn",
      "photoUrl": "",
      "userId": "05624262555196952372"
     },
     "user_tz": 0
    },
    "id": "Rlc8dr38u2Dc"
   },
   "outputs": [],
   "source": [
    "class some_network(tf.keras.Model):\n",
    "\n",
    "  def __init__(self, n_input, n_output):\n",
    "    super(some_network, self).__init__()\n",
    "\n",
    "    # set the weights and biases\n",
    "    self.w1_1 = tf.Variable(initial_value= tf.random_normal([n_input, 10]), trainable=True)\n",
    "    self.w2_1 = tf.Variable(initial_value= tf.random_normal([10, 5]), trainable=True)\n",
    "    self.w3_1 = tf.Variable(initial_value= tf.random_normal([5, n_output]), trainable=True)\n",
    "\n",
    "    self.b1_1 = tf.Variable(initial_value= tf.random_normal([10]), trainable=True)\n",
    "    self.b2_1 = tf.Variable(initial_value= tf.random_normal([5]), trainable=True)\n",
    "    self.b3_1 = tf.Variable(initial_value= tf.random_normal([n_output]), trainable=True)\n",
    "\n",
    "  def call(self, input_d):\n",
    "    layer_1 = tf.nn.sigmoid(tf.add(tf.matmul(input_d, self.w1_1), self.b1_1))\n",
    "    layer_2 = tf.nn.sigmoid(tf.add(tf.matmul(layer_1, self.w2_1), self.b2_1))\n",
    "    out = tf.nn.sigmoid(tf.add(tf.matmul(layer_2, self.w3_1), self.b3_1))\n",
    "\n",
    "    return out\n"
   ]
  },
  {
   "cell_type": "markdown",
   "metadata": {
    "id": "7qDmQq95u_rP"
   },
   "source": [
    "# Parameters\n"
   ]
  },
  {
   "cell_type": "code",
   "execution_count": 11,
   "metadata": {
    "ExecuteTime": {
     "end_time": "2020-11-11T05:10:12.537826Z",
     "start_time": "2020-11-11T05:10:12.527823Z"
    },
    "executionInfo": {
     "elapsed": 624,
     "status": "ok",
     "timestamp": 1605070719464,
     "user": {
      "displayName": "Choong Jiachenn",
      "photoUrl": "",
      "userId": "05624262555196952372"
     },
     "user_tz": 0
    },
    "id": "AgaczuRQvEq5"
   },
   "outputs": [],
   "source": [
    "# Network parameters\n",
    "n_hidden1 = 10\n",
    "n_hidden2 = 10\n",
    "n_input = 11\n",
    "n_output = 1\n",
    "\n",
    "#Learning parameters\n",
    "learning_constants = [0.04, 0.05, 0.06, 0.07]\n",
    "learning_constant = 0.06\n",
    "number_epochs = 400\n",
    "cross_val_epochs = 150\n",
    "batch_size= 500"
   ]
  },
  {
   "cell_type": "markdown",
   "metadata": {
    "id": "Ndefd2bqrs_D"
   },
   "source": [
    "# Testing different LR \n"
   ]
  },
  {
   "cell_type": "code",
   "execution_count": 11,
   "metadata": {
    "colab": {
     "base_uri": "https://localhost:8080/",
     "height": 1000
    },
    "executionInfo": {
     "elapsed": 1882229,
     "status": "error",
     "timestamp": 1605067295778,
     "user": {
      "displayName": "Choong Jiachenn",
      "photoUrl": "",
      "userId": "05624262555196952372"
     },
     "user_tz": 0
    },
    "id": "EaEhcRrsru0r",
    "outputId": "de03eafd-77c0-4621-cdd8-843e6469c81e"
   },
   "outputs": [
    {
     "name": "stdout",
     "output_type": "stream",
     "text": [
      "Learning rate: 0.04\n",
      "Epoch 10/200\t\tMSE: 0.05519147589802742\n",
      "Epoch 20/200\t\tMSE: 0.02852768450975418\n",
      "Epoch 30/200\t\tMSE: 0.02970975637435913\n",
      "Epoch 40/200\t\tMSE: 0.028862392529845238\n",
      "Epoch 50/200\t\tMSE: 0.02717408537864685\n",
      "Epoch 60/200\t\tMSE: 0.026039157062768936\n",
      "Epoch 70/200\t\tMSE: 0.025026030838489532\n",
      "Epoch 80/200\t\tMSE: 0.02394985407590866\n",
      "Epoch 90/200\t\tMSE: 0.02286429889500141\n",
      "Epoch 100/200\t\tMSE: 0.02192324586212635\n",
      "Epoch 110/200\t\tMSE: 0.021244030445814133\n",
      "Epoch 120/200\t\tMSE: 0.020817775279283524\n",
      "Epoch 130/200\t\tMSE: 0.020535696297883987\n",
      "Epoch 140/200\t\tMSE: 0.020311206579208374\n",
      "Epoch 150/200\t\tMSE: 0.020121313631534576\n",
      "Epoch 160/200\t\tMSE: 0.01996733620762825\n",
      "Epoch 170/200\t\tMSE: 0.0198476891964674\n",
      "Epoch 180/200\t\tMSE: 0.019756542518734932\n",
      "Epoch 190/200\t\tMSE: 0.019687574356794357\n",
      "Epoch 200/200\t\tMSE: 0.019634826108813286\n"
     ]
    },
    {
     "data": {
      "image/png": "[encoded data removed]",
      "text/plain": [
       "<Figure size 432x288 with 1 Axes>"
      ]
     },
     "metadata": {
      "needs_background": "light",
      "tags": []
     },
     "output_type": "display_data"
    },
    {
     "name": "stdout",
     "output_type": "stream",
     "text": [
      "Learning rate: 0.05\n",
      "Epoch 10/200\t\tMSE: 0.03430519625544548\n",
      "Epoch 20/200\t\tMSE: 0.030972041189670563\n",
      "Epoch 30/200\t\tMSE: 0.02935665287077427\n",
      "Epoch 40/200\t\tMSE: 0.028344394639134407\n",
      "Epoch 50/200\t\tMSE: 0.02725895121693611\n",
      "Epoch 60/200\t\tMSE: 0.025650620460510254\n",
      "Epoch 70/200\t\tMSE: 0.023540165275335312\n",
      "Epoch 80/200\t\tMSE: 0.02160041593015194\n",
      "Epoch 90/200\t\tMSE: 0.020626695826649666\n",
      "Epoch 100/200\t\tMSE: 0.02019907720386982\n",
      "Epoch 110/200\t\tMSE: 0.019801611080765724\n",
      "Epoch 120/200\t\tMSE: 0.0196222010999918\n",
      "Epoch 130/200\t\tMSE: 0.019532162696123123\n",
      "Epoch 140/200\t\tMSE: 0.019484318792819977\n",
      "Epoch 150/200\t\tMSE: 0.019444940611720085\n",
      "Epoch 160/200\t\tMSE: 0.019410721957683563\n",
      "Epoch 170/200\t\tMSE: 0.019379831850528717\n",
      "Epoch 180/200\t\tMSE: 0.019348420202732086\n",
      "Epoch 190/200\t\tMSE: 0.01931469701230526\n",
      "Epoch 200/200\t\tMSE: 0.019277729094028473\n"
     ]
    },
    {
     "data": {
      "image/png": "[encoded data removed]",
      "text/plain": [
       "<Figure size 432x288 with 1 Axes>"
      ]
     },
     "metadata": {
      "needs_background": "light",
      "tags": []
     },
     "output_type": "display_data"
    },
    {
     "name": "stdout",
     "output_type": "stream",
     "text": [
      "Learning rate: 0.06\n",
      "Epoch 10/200\t\tMSE: 0.028388483449816704\n",
      "Epoch 20/200\t\tMSE: 0.028360679745674133\n",
      "Epoch 30/200\t\tMSE: 0.027315042912960052\n",
      "Epoch 40/200\t\tMSE: 0.025592496618628502\n",
      "Epoch 50/200\t\tMSE: 0.0238112211227417\n",
      "Epoch 60/200\t\tMSE: 0.022649141028523445\n",
      "Epoch 70/200\t\tMSE: 0.021637842059135437\n",
      "Epoch 80/200\t\tMSE: 0.021036893129348755\n",
      "Epoch 90/200\t\tMSE: 0.02063681185245514\n",
      "Epoch 100/200\t\tMSE: 0.02031843177974224\n",
      "Epoch 110/200\t\tMSE: 0.020058346912264824\n",
      "Epoch 120/200\t\tMSE: 0.019862953573465347\n",
      "Epoch 130/200\t\tMSE: 0.019724862650036812\n",
      "Epoch 140/200\t\tMSE: 0.019629474729299545\n",
      "Epoch 150/200\t\tMSE: 0.019564412534236908\n",
      "Epoch 160/200\t\tMSE: 0.019518306478857994\n",
      "Epoch 170/200\t\tMSE: 0.019481973722577095\n",
      "Epoch 180/200\t\tMSE: 0.019449574872851372\n",
      "Epoch 190/200\t\tMSE: 0.019417807459831238\n",
      "Epoch 200/200\t\tMSE: 0.019384630024433136\n"
     ]
    },
    {
     "data": {
      "image/png": "[encoded data removed]",
      "text/plain": [
       "<Figure size 432x288 with 1 Axes>"
      ]
     },
     "metadata": {
      "needs_background": "light",
      "tags": []
     },
     "output_type": "display_data"
    },
    {
     "name": "stdout",
     "output_type": "stream",
     "text": [
      "Learning rate: 0.07\n"
     ]
    },
    {
     "ename": "KeyboardInterrupt",
     "evalue": "ignored",
     "output_type": "error",
     "traceback": [
      "\u001b[0;31m---------------------------------------------------------------------------\u001b[0m",
      "\u001b[0;31mKeyboardInterrupt\u001b[0m                         Traceback (most recent call last)",
      "\u001b[0;32m<ipython-input-11-57697f6fcb51>\u001b[0m in \u001b[0;36m<module>\u001b[0;34m()\u001b[0m\n\u001b[1;32m     63\u001b[0m         \u001b[0;31m# Perform validation testing\u001b[0m\u001b[0;34m\u001b[0m\u001b[0;34m\u001b[0m\u001b[0;34m\u001b[0m\u001b[0m\n\u001b[1;32m     64\u001b[0m         \u001b[0mpred\u001b[0m \u001b[0;34m=\u001b[0m \u001b[0mtf\u001b[0m\u001b[0;34m.\u001b[0m\u001b[0mnn\u001b[0m\u001b[0;34m.\u001b[0m\u001b[0mrelu\u001b[0m\u001b[0;34m(\u001b[0m\u001b[0mneural_network\u001b[0m\u001b[0;34m(\u001b[0m\u001b[0mX\u001b[0m\u001b[0;34m)\u001b[0m\u001b[0;34m)\u001b[0m\u001b[0;34m\u001b[0m\u001b[0;34m\u001b[0m\u001b[0m\n\u001b[0;32m---> 65\u001b[0;31m         \u001b[0mval_loss\u001b[0m \u001b[0;34m=\u001b[0m \u001b[0mloss_fn\u001b[0m\u001b[0;34m.\u001b[0m\u001b[0meval\u001b[0m\u001b[0;34m(\u001b[0m\u001b[0;34m{\u001b[0m\u001b[0mX\u001b[0m\u001b[0;34m:\u001b[0m \u001b[0mfinal_valid_data\u001b[0m\u001b[0;34m,\u001b[0m \u001b[0mY\u001b[0m\u001b[0;34m:\u001b[0m\u001b[0mfinal_valid_label\u001b[0m\u001b[0;34m}\u001b[0m\u001b[0;34m)\u001b[0m\u001b[0;34m\u001b[0m\u001b[0;34m\u001b[0m\u001b[0m\n\u001b[0m\u001b[1;32m     66\u001b[0m         \u001b[0mvalidation_loss\u001b[0m\u001b[0;34m.\u001b[0m\u001b[0mappend\u001b[0m\u001b[0;34m(\u001b[0m\u001b[0mval_loss\u001b[0m\u001b[0;34m)\u001b[0m\u001b[0;34m\u001b[0m\u001b[0;34m\u001b[0m\u001b[0m\n\u001b[1;32m     67\u001b[0m         \u001b[0;31m# print(f\"Validation set MSE: {val_loss}\\n\")\u001b[0m\u001b[0;34m\u001b[0m\u001b[0;34m\u001b[0m\u001b[0;34m\u001b[0m\u001b[0m\n",
      "\u001b[0;32m/usr/local/lib/python3.6/dist-packages/tensorflow/python/framework/ops.py\u001b[0m in \u001b[0;36meval\u001b[0;34m(self, feed_dict, session)\u001b[0m\n\u001b[1;32m    693\u001b[0m \u001b[0;34m\u001b[0m\u001b[0m\n\u001b[1;32m    694\u001b[0m     \"\"\"\n\u001b[0;32m--> 695\u001b[0;31m     \u001b[0;32mreturn\u001b[0m \u001b[0m_eval_using_default_session\u001b[0m\u001b[0;34m(\u001b[0m\u001b[0mself\u001b[0m\u001b[0;34m,\u001b[0m \u001b[0mfeed_dict\u001b[0m\u001b[0;34m,\u001b[0m \u001b[0mself\u001b[0m\u001b[0;34m.\u001b[0m\u001b[0mgraph\u001b[0m\u001b[0;34m,\u001b[0m \u001b[0msession\u001b[0m\u001b[0;34m)\u001b[0m\u001b[0;34m\u001b[0m\u001b[0;34m\u001b[0m\u001b[0m\n\u001b[0m\u001b[1;32m    696\u001b[0m \u001b[0;34m\u001b[0m\u001b[0m\n\u001b[1;32m    697\u001b[0m \u001b[0;34m\u001b[0m\u001b[0m\n",
      "\u001b[0;32m/usr/local/lib/python3.6/dist-packages/tensorflow/python/framework/ops.py\u001b[0m in \u001b[0;36m_eval_using_default_session\u001b[0;34m(tensors, feed_dict, graph, session)\u001b[0m\n\u001b[1;32m   5179\u001b[0m                        \u001b[0;34m\"the tensor's graph is different from the session's \"\u001b[0m\u001b[0;34m\u001b[0m\u001b[0;34m\u001b[0m\u001b[0m\n\u001b[1;32m   5180\u001b[0m                        \"graph.\")\n\u001b[0;32m-> 5181\u001b[0;31m   \u001b[0;32mreturn\u001b[0m \u001b[0msession\u001b[0m\u001b[0;34m.\u001b[0m\u001b[0mrun\u001b[0m\u001b[0;34m(\u001b[0m\u001b[0mtensors\u001b[0m\u001b[0;34m,\u001b[0m \u001b[0mfeed_dict\u001b[0m\u001b[0;34m)\u001b[0m\u001b[0;34m\u001b[0m\u001b[0;34m\u001b[0m\u001b[0m\n\u001b[0m\u001b[1;32m   5182\u001b[0m \u001b[0;34m\u001b[0m\u001b[0m\n\u001b[1;32m   5183\u001b[0m \u001b[0;34m\u001b[0m\u001b[0m\n",
      "\u001b[0;32m/usr/local/lib/python3.6/dist-packages/tensorflow/python/client/session.py\u001b[0m in \u001b[0;36mrun\u001b[0;34m(self, fetches, feed_dict, options, run_metadata)\u001b[0m\n\u001b[1;32m    927\u001b[0m     \u001b[0;32mtry\u001b[0m\u001b[0;34m:\u001b[0m\u001b[0;34m\u001b[0m\u001b[0;34m\u001b[0m\u001b[0m\n\u001b[1;32m    928\u001b[0m       result = self._run(None, fetches, feed_dict, options_ptr,\n\u001b[0;32m--> 929\u001b[0;31m                          run_metadata_ptr)\n\u001b[0m\u001b[1;32m    930\u001b[0m       \u001b[0;32mif\u001b[0m \u001b[0mrun_metadata\u001b[0m\u001b[0;34m:\u001b[0m\u001b[0;34m\u001b[0m\u001b[0;34m\u001b[0m\u001b[0m\n\u001b[1;32m    931\u001b[0m         \u001b[0mproto_data\u001b[0m \u001b[0;34m=\u001b[0m \u001b[0mtf_session\u001b[0m\u001b[0;34m.\u001b[0m\u001b[0mTF_GetBuffer\u001b[0m\u001b[0;34m(\u001b[0m\u001b[0mrun_metadata_ptr\u001b[0m\u001b[0;34m)\u001b[0m\u001b[0;34m\u001b[0m\u001b[0;34m\u001b[0m\u001b[0m\n",
      "\u001b[0;32m/usr/local/lib/python3.6/dist-packages/tensorflow/python/client/session.py\u001b[0m in \u001b[0;36m_run\u001b[0;34m(self, handle, fetches, feed_dict, options, run_metadata)\u001b[0m\n\u001b[1;32m   1150\u001b[0m     \u001b[0;32mif\u001b[0m \u001b[0mfinal_fetches\u001b[0m \u001b[0;32mor\u001b[0m \u001b[0mfinal_targets\u001b[0m \u001b[0;32mor\u001b[0m \u001b[0;34m(\u001b[0m\u001b[0mhandle\u001b[0m \u001b[0;32mand\u001b[0m \u001b[0mfeed_dict_tensor\u001b[0m\u001b[0;34m)\u001b[0m\u001b[0;34m:\u001b[0m\u001b[0;34m\u001b[0m\u001b[0;34m\u001b[0m\u001b[0m\n\u001b[1;32m   1151\u001b[0m       results = self._do_run(handle, final_targets, final_fetches,\n\u001b[0;32m-> 1152\u001b[0;31m                              feed_dict_tensor, options, run_metadata)\n\u001b[0m\u001b[1;32m   1153\u001b[0m     \u001b[0;32melse\u001b[0m\u001b[0;34m:\u001b[0m\u001b[0;34m\u001b[0m\u001b[0;34m\u001b[0m\u001b[0m\n\u001b[1;32m   1154\u001b[0m       \u001b[0mresults\u001b[0m \u001b[0;34m=\u001b[0m \u001b[0;34m[\u001b[0m\u001b[0;34m]\u001b[0m\u001b[0;34m\u001b[0m\u001b[0;34m\u001b[0m\u001b[0m\n",
      "\u001b[0;32m/usr/local/lib/python3.6/dist-packages/tensorflow/python/client/session.py\u001b[0m in \u001b[0;36m_do_run\u001b[0;34m(self, handle, target_list, fetch_list, feed_dict, options, run_metadata)\u001b[0m\n\u001b[1;32m   1326\u001b[0m     \u001b[0;32mif\u001b[0m \u001b[0mhandle\u001b[0m \u001b[0;32mis\u001b[0m \u001b[0;32mNone\u001b[0m\u001b[0;34m:\u001b[0m\u001b[0;34m\u001b[0m\u001b[0;34m\u001b[0m\u001b[0m\n\u001b[1;32m   1327\u001b[0m       return self._do_call(_run_fn, feeds, fetches, targets, options,\n\u001b[0;32m-> 1328\u001b[0;31m                            run_metadata)\n\u001b[0m\u001b[1;32m   1329\u001b[0m     \u001b[0;32melse\u001b[0m\u001b[0;34m:\u001b[0m\u001b[0;34m\u001b[0m\u001b[0;34m\u001b[0m\u001b[0m\n\u001b[1;32m   1330\u001b[0m       \u001b[0;32mreturn\u001b[0m \u001b[0mself\u001b[0m\u001b[0;34m.\u001b[0m\u001b[0m_do_call\u001b[0m\u001b[0;34m(\u001b[0m\u001b[0m_prun_fn\u001b[0m\u001b[0;34m,\u001b[0m \u001b[0mhandle\u001b[0m\u001b[0;34m,\u001b[0m \u001b[0mfeeds\u001b[0m\u001b[0;34m,\u001b[0m \u001b[0mfetches\u001b[0m\u001b[0;34m)\u001b[0m\u001b[0;34m\u001b[0m\u001b[0;34m\u001b[0m\u001b[0m\n",
      "\u001b[0;32m/usr/local/lib/python3.6/dist-packages/tensorflow/python/client/session.py\u001b[0m in \u001b[0;36m_do_call\u001b[0;34m(self, fn, *args)\u001b[0m\n\u001b[1;32m   1332\u001b[0m   \u001b[0;32mdef\u001b[0m \u001b[0m_do_call\u001b[0m\u001b[0;34m(\u001b[0m\u001b[0mself\u001b[0m\u001b[0;34m,\u001b[0m \u001b[0mfn\u001b[0m\u001b[0;34m,\u001b[0m \u001b[0;34m*\u001b[0m\u001b[0margs\u001b[0m\u001b[0;34m)\u001b[0m\u001b[0;34m:\u001b[0m\u001b[0;34m\u001b[0m\u001b[0;34m\u001b[0m\u001b[0m\n\u001b[1;32m   1333\u001b[0m     \u001b[0;32mtry\u001b[0m\u001b[0;34m:\u001b[0m\u001b[0;34m\u001b[0m\u001b[0;34m\u001b[0m\u001b[0m\n\u001b[0;32m-> 1334\u001b[0;31m       \u001b[0;32mreturn\u001b[0m \u001b[0mfn\u001b[0m\u001b[0;34m(\u001b[0m\u001b[0;34m*\u001b[0m\u001b[0margs\u001b[0m\u001b[0;34m)\u001b[0m\u001b[0;34m\u001b[0m\u001b[0;34m\u001b[0m\u001b[0m\n\u001b[0m\u001b[1;32m   1335\u001b[0m     \u001b[0;32mexcept\u001b[0m \u001b[0merrors\u001b[0m\u001b[0;34m.\u001b[0m\u001b[0mOpError\u001b[0m \u001b[0;32mas\u001b[0m \u001b[0me\u001b[0m\u001b[0;34m:\u001b[0m\u001b[0;34m\u001b[0m\u001b[0;34m\u001b[0m\u001b[0m\n\u001b[1;32m   1336\u001b[0m       \u001b[0mmessage\u001b[0m \u001b[0;34m=\u001b[0m \u001b[0mcompat\u001b[0m\u001b[0;34m.\u001b[0m\u001b[0mas_text\u001b[0m\u001b[0;34m(\u001b[0m\u001b[0me\u001b[0m\u001b[0;34m.\u001b[0m\u001b[0mmessage\u001b[0m\u001b[0;34m)\u001b[0m\u001b[0;34m\u001b[0m\u001b[0;34m\u001b[0m\u001b[0m\n",
      "\u001b[0;32m/usr/local/lib/python3.6/dist-packages/tensorflow/python/client/session.py\u001b[0m in \u001b[0;36m_run_fn\u001b[0;34m(feed_dict, fetch_list, target_list, options, run_metadata)\u001b[0m\n\u001b[1;32m   1315\u001b[0m     \u001b[0;32mdef\u001b[0m \u001b[0m_run_fn\u001b[0m\u001b[0;34m(\u001b[0m\u001b[0mfeed_dict\u001b[0m\u001b[0;34m,\u001b[0m \u001b[0mfetch_list\u001b[0m\u001b[0;34m,\u001b[0m \u001b[0mtarget_list\u001b[0m\u001b[0;34m,\u001b[0m \u001b[0moptions\u001b[0m\u001b[0;34m,\u001b[0m \u001b[0mrun_metadata\u001b[0m\u001b[0;34m)\u001b[0m\u001b[0;34m:\u001b[0m\u001b[0;34m\u001b[0m\u001b[0;34m\u001b[0m\u001b[0m\n\u001b[1;32m   1316\u001b[0m       \u001b[0;31m# Ensure any changes to the graph are reflected in the runtime.\u001b[0m\u001b[0;34m\u001b[0m\u001b[0;34m\u001b[0m\u001b[0;34m\u001b[0m\u001b[0m\n\u001b[0;32m-> 1317\u001b[0;31m       \u001b[0mself\u001b[0m\u001b[0;34m.\u001b[0m\u001b[0m_extend_graph\u001b[0m\u001b[0;34m(\u001b[0m\u001b[0;34m)\u001b[0m\u001b[0;34m\u001b[0m\u001b[0;34m\u001b[0m\u001b[0m\n\u001b[0m\u001b[1;32m   1318\u001b[0m       return self._call_tf_sessionrun(\n\u001b[1;32m   1319\u001b[0m           options, feed_dict, fetch_list, target_list, run_metadata)\n",
      "\u001b[0;32m/usr/local/lib/python3.6/dist-packages/tensorflow/python/client/session.py\u001b[0m in \u001b[0;36m_extend_graph\u001b[0;34m(self)\u001b[0m\n\u001b[1;32m   1350\u001b[0m   \u001b[0;32mdef\u001b[0m \u001b[0m_extend_graph\u001b[0m\u001b[0;34m(\u001b[0m\u001b[0mself\u001b[0m\u001b[0;34m)\u001b[0m\u001b[0;34m:\u001b[0m\u001b[0;34m\u001b[0m\u001b[0;34m\u001b[0m\u001b[0m\n\u001b[1;32m   1351\u001b[0m     \u001b[0;32mwith\u001b[0m \u001b[0mself\u001b[0m\u001b[0;34m.\u001b[0m\u001b[0m_graph\u001b[0m\u001b[0;34m.\u001b[0m\u001b[0m_session_run_lock\u001b[0m\u001b[0;34m(\u001b[0m\u001b[0;34m)\u001b[0m\u001b[0;34m:\u001b[0m  \u001b[0;31m# pylint: disable=protected-access\u001b[0m\u001b[0;34m\u001b[0m\u001b[0;34m\u001b[0m\u001b[0m\n\u001b[0;32m-> 1352\u001b[0;31m       \u001b[0mtf_session\u001b[0m\u001b[0;34m.\u001b[0m\u001b[0mExtendSession\u001b[0m\u001b[0;34m(\u001b[0m\u001b[0mself\u001b[0m\u001b[0;34m.\u001b[0m\u001b[0m_session\u001b[0m\u001b[0;34m)\u001b[0m\u001b[0;34m\u001b[0m\u001b[0;34m\u001b[0m\u001b[0m\n\u001b[0m\u001b[1;32m   1353\u001b[0m \u001b[0;34m\u001b[0m\u001b[0m\n\u001b[1;32m   1354\u001b[0m   \u001b[0;31m# The threshold to run garbage collection to delete dead tensors.\u001b[0m\u001b[0;34m\u001b[0m\u001b[0;34m\u001b[0m\u001b[0;34m\u001b[0m\u001b[0m\n",
      "\u001b[0;31mKeyboardInterrupt\u001b[0m: "
     ]
    }
   ],
   "source": [
    "final_train_data = np.array(final_train_df.drop(columns=\"quality\"))\n",
    "final_train_label = np.expand_dims(np.array(final_train_df[\"quality\"]),axis=(1))\n",
    "\n",
    "final_valid_data = np.array(final_valid_df.drop(columns=\"quality\"))\n",
    "final_valid_label = np.expand_dims(np.array(final_valid_df[\"quality\"]),axis=(1))\n",
    "\n",
    "final_test_data = np.array(final_test_df.drop(columns=\"quality\"))\n",
    "final_test_label = np.expand_dims(np.array(final_test_df[\"quality\"]),axis=(1))\n",
    "\n",
    "# Defining the input and the output\n",
    "X = tf.placeholder(\"float\", [None, n_input])\n",
    "Y = tf.placeholder(\"float\", [None, n_output])\n",
    "\n",
    "# Cross Validation\n",
    "kf = KFold(n_splits=10,shuffle=True)\n",
    "\n",
    "record_dict = {}\n",
    "valid_loss = {}\n",
    "\n",
    "for lr in learning_constants:\n",
    "  print(f\"Learning rate: {lr}\")\n",
    "  record_dict[f\"lr_{lr}\"] = []\n",
    "  valid_loss[f\"lr_{lr}\"] = []\n",
    "  epoch_holder = []\n",
    "  training_loss = []\n",
    "  validation_loss = []\n",
    "\n",
    "  # Create model\n",
    "  neural_network = some_network(n_input,n_output)\n",
    "\n",
    "  # Define loss and optimizer\n",
    "  loss_fn = tf.reduce_mean(tf.keras.losses.MeanSquaredError()(neural_network(X),Y))\n",
    "  optimizer = tf.train.AdamOptimizer(lr).minimize(loss_fn)\n",
    "\n",
    "  #Initializing the variables\n",
    "  init = tf.global_variables_initializer()\n",
    "\n",
    "  # Training model\n",
    "  with tf.Session() as sess:\n",
    "      sess.run(init)\n",
    "\n",
    "      for epoch in range(200):\n",
    "        epoch_holder.append(epoch)\n",
    "        sess.run(optimizer, feed_dict={X: final_train_data, Y: final_train_label})\n",
    "\n",
    "        # if ((epoch+1) % 10 == 0):\n",
    "        #   pred = tf.nn.relu(neural_network(X))\n",
    "        #   loss_fn = tf.keras.losses.MeanSquaredError()(pred,Y)\n",
    "        #   loss = loss_fn.eval({X:final_train_data, Y:final_train_label})\n",
    "        #   valid_loss[f\"lr_{lr}\"].append(loss)  \n",
    "        #   print(f\"Average loss at {epoch+1} epochs: {loss}\")\n",
    "\n",
    "        pred = tf.nn.relu(neural_network(X))\n",
    "        loss_fn = tf.keras.losses.MeanSquaredError()(pred,Y)\n",
    "        loss = loss_fn.eval({X:final_train_data, Y:final_train_label})\n",
    "\n",
    "        if ((epoch+1) % 10 == 0):\n",
    "          print(f\"Epoch {epoch+1}/200\\t\\tMSE: {loss}\")\n",
    "\n",
    "        training_loss.append(loss)\n",
    "\n",
    "        # Calculate MSE here\n",
    "        # Perform validation testing\n",
    "        pred = tf.nn.relu(neural_network(X))\n",
    "        val_loss = loss_fn.eval({X:  final_valid_data, Y:final_valid_label})\n",
    "        validation_loss.append(val_loss)\n",
    "        # print(f\"Validation set MSE: {val_loss}\\n\")\n",
    "        record_dict[f\"lr_{lr}\"].append(val_loss)  \n",
    "\n",
    "      plt.figure()\n",
    "      plt.plot(epoch_holder, training_loss, label='Train')\n",
    "      plt.plot(epoch_holder, validation_loss, label='Valid')\n",
    "      plt.title(f\"Learning rate: {lr}, Epochs: {200}\")\n",
    "      plt.legend()\n",
    "      plt.show()\n"
   ]
  },
  {
   "cell_type": "code",
   "execution_count": 59,
   "metadata": {
    "colab": {
     "base_uri": "https://localhost:8080/"
    },
    "executionInfo": {
     "elapsed": 593,
     "status": "ok",
     "timestamp": 1605069547876,
     "user": {
      "displayName": "Choong Jiachenn",
      "photoUrl": "",
      "userId": "05624262555196952372"
     },
     "user_tz": 0
    },
    "id": "ACxJh_c-lYK1",
    "outputId": "738a34b5-06ab-4f6e-a679-f549a1caf3a6"
   },
   "outputs": [
    {
     "name": "stdout",
     "output_type": "stream",
     "text": [
      "Average MSE for lr_0.04: 0.026607519779354334\n",
      "Average RMSE for lr_0.04: 0.1593836220860888\n",
      "\n",
      "Average MSE for lr_0.05: 0.023554731076583266\n",
      "Average RMSE for lr_0.05: 0.1519822984472426\n",
      "\n",
      "Average MSE for lr_0.06: 0.022761709224432707\n",
      "Average RMSE for lr_0.06: 0.1498105493292473\n",
      "\n",
      "Average MSE for lr_0.07: 0.1366479553282261\n",
      "Average RMSE for lr_0.07: 0.3536858362523559\n",
      "\n"
     ]
    }
   ],
   "source": [
    "tmp_list = []\n",
    "for i in record_dict:\n",
    "  # print(record_dict[i])\n",
    "  print(f\"Average MSE for {i}: {sum(record_dict[i])/len(record_dict[i])}\")\n",
    "  tmp_list = [math.sqrt(j) for j in record_dict[i]]\n",
    "  print(f\"Average RMSE for {i}: {sum(tmp_list)/len(tmp_list)}\\n\")"
   ]
  },
  {
   "cell_type": "markdown",
   "metadata": {
    "id": "bcK-eV3ZvK04"
   },
   "source": [
    "# Cross Validation"
   ]
  },
  {
   "cell_type": "code",
   "execution_count": 17,
   "metadata": {
    "ExecuteTime": {
     "end_time": "2020-11-11T05:14:55.127019Z",
     "start_time": "2020-11-11T05:13:17.890114Z"
    },
    "colab": {
     "base_uri": "https://localhost:8080/"
    },
    "id": "rcfj-FILhSyx",
    "outputId": "89949957-8b83-4bc0-885a-790750fe438b"
   },
   "outputs": [
    {
     "name": "stdout",
     "output_type": "stream",
     "text": [
      "Learning rate: 0.06\n",
      "====================\n",
      "Fold: 1\n",
      "====================\n",
      "Epoch 10/150\t\tMSE: 0.03219308331608772\n",
      "Epoch 20/150\t\tMSE: 0.0292624831199646\n",
      "Epoch 30/150\t\tMSE: 0.02606225199997425\n",
      "Epoch 40/150\t\tMSE: 0.02347458153963089\n",
      "Epoch 50/150\t\tMSE: 0.02150367945432663\n",
      "Epoch 60/150\t\tMSE: 0.020405152812600136\n",
      "Epoch 70/150\t\tMSE: 0.019926805049180984\n",
      "Epoch 80/150\t\tMSE: 0.01949833147227764\n",
      "Epoch 90/150\t\tMSE: 0.019239645451307297\n",
      "Epoch 100/150\t\tMSE: 0.019118690863251686\n",
      "Epoch 110/150\t\tMSE: 0.019061828032135963\n",
      "Epoch 120/150\t\tMSE: 0.019029170274734497\n",
      "Epoch 130/150\t\tMSE: 0.019006649032235146\n",
      "Epoch 140/150\t\tMSE: 0.018988534808158875\n",
      "Epoch 150/150\t\tMSE: 0.01897309347987175\n",
      "Validation loss: 0.018753433600068092\n",
      "Learning rate: 0.06\n",
      "====================\n",
      "Fold: 2\n",
      "====================\n",
      "Epoch 10/150\t\tMSE: 0.02876828983426094\n",
      "Epoch 20/150\t\tMSE: 0.025915632024407387\n",
      "Epoch 30/150\t\tMSE: 0.02301088161766529\n",
      "Epoch 40/150\t\tMSE: 0.02119363285601139\n",
      "Epoch 50/150\t\tMSE: 0.020408345386385918\n",
      "Epoch 60/150\t\tMSE: 0.019794518128037453\n",
      "Epoch 70/150\t\tMSE: 0.019354715943336487\n",
      "Epoch 80/150\t\tMSE: 0.019100293517112732\n",
      "Epoch 90/150\t\tMSE: 0.018975207582116127\n",
      "Epoch 100/150\t\tMSE: 0.01892060600221157\n",
      "Epoch 110/150\t\tMSE: 0.01888001710176468\n",
      "Epoch 120/150\t\tMSE: 0.01884572021663189\n",
      "Epoch 130/150\t\tMSE: 0.018815966323018074\n",
      "Epoch 140/150\t\tMSE: 0.018784865736961365\n",
      "Epoch 150/150\t\tMSE: 0.01875002682209015\n",
      "Validation loss: 0.019983923062682152\n",
      "Learning rate: 0.06\n",
      "====================\n",
      "Fold: 3\n",
      "====================\n",
      "Epoch 10/150\t\tMSE: 0.04636711627244949\n",
      "Epoch 20/150\t\tMSE: 0.03237142041325569\n",
      "Epoch 30/150\t\tMSE: 0.028634078800678253\n",
      "Epoch 40/150\t\tMSE: 0.02676974982023239\n",
      "Epoch 50/150\t\tMSE: 0.025012167170643806\n",
      "Epoch 60/150\t\tMSE: 0.022962816059589386\n",
      "Epoch 70/150\t\tMSE: 0.021472541615366936\n",
      "Epoch 80/150\t\tMSE: 0.020408926531672478\n",
      "Epoch 90/150\t\tMSE: 0.019825810566544533\n",
      "Epoch 100/150\t\tMSE: 0.019428055733442307\n",
      "Epoch 110/150\t\tMSE: 0.019134461879730225\n",
      "Epoch 120/150\t\tMSE: 0.018955837935209274\n",
      "Epoch 130/150\t\tMSE: 0.01885315589606762\n",
      "Epoch 140/150\t\tMSE: 0.018786916509270668\n",
      "Epoch 150/150\t\tMSE: 0.01873595081269741\n",
      "Validation loss: 0.02082591876387596\n",
      "Learning rate: 0.06\n",
      "====================\n",
      "Fold: 4\n",
      "====================\n",
      "Epoch 10/150\t\tMSE: 0.03915806859731674\n",
      "Epoch 20/150\t\tMSE: 0.031109169125556946\n",
      "Epoch 30/150\t\tMSE: 0.032151538878679276\n",
      "Epoch 40/150\t\tMSE: 0.02975824475288391\n",
      "Epoch 50/150\t\tMSE: 0.029901139438152313\n",
      "Epoch 60/150\t\tMSE: 0.02979789488017559\n",
      "Epoch 70/150\t\tMSE: 0.02965366840362549\n",
      "Epoch 80/150\t\tMSE: 0.02958645485341549\n",
      "Epoch 90/150\t\tMSE: 0.02948588691651821\n",
      "Epoch 100/150\t\tMSE: 0.02927131950855255\n",
      "Epoch 110/150\t\tMSE: 0.028772449120879173\n",
      "Epoch 120/150\t\tMSE: 0.027609745040535927\n",
      "Epoch 130/150\t\tMSE: 0.02549274079501629\n",
      "Epoch 140/150\t\tMSE: 0.0228092260658741\n",
      "Epoch 150/150\t\tMSE: 0.02105759270489216\n",
      "Validation loss: 0.01917104236781597\n",
      "Learning rate: 0.06\n",
      "====================\n",
      "Fold: 5\n",
      "====================\n",
      "Epoch 10/150\t\tMSE: 0.029687944799661636\n",
      "Epoch 20/150\t\tMSE: 0.02713773027062416\n",
      "Epoch 30/150\t\tMSE: 0.02496497519314289\n",
      "Epoch 40/150\t\tMSE: 0.021950533613562584\n",
      "Epoch 50/150\t\tMSE: 0.020639993250370026\n",
      "Epoch 60/150\t\tMSE: 0.01979972794651985\n",
      "Epoch 70/150\t\tMSE: 0.019303742796182632\n",
      "Epoch 80/150\t\tMSE: 0.01905900612473488\n",
      "Epoch 90/150\t\tMSE: 0.018953515216708183\n",
      "Epoch 100/150\t\tMSE: 0.01886393316090107\n",
      "Epoch 110/150\t\tMSE: 0.018769074231386185\n",
      "Epoch 120/150\t\tMSE: 0.018656684085726738\n",
      "Epoch 130/150\t\tMSE: 0.018475627526640892\n",
      "Epoch 140/150\t\tMSE: 0.018137989565730095\n",
      "Epoch 150/150\t\tMSE: 0.017844442278146744\n",
      "Validation loss: 0.018613332882523537\n",
      "Learning rate: 0.06\n",
      "====================\n",
      "Fold: 6\n",
      "====================\n",
      "Epoch 10/150\t\tMSE: 0.03259029984474182\n",
      "Epoch 20/150\t\tMSE: 0.02978385053575039\n",
      "Epoch 30/150\t\tMSE: 0.025717802345752716\n",
      "Epoch 40/150\t\tMSE: 0.02281232364475727\n",
      "Epoch 50/150\t\tMSE: 0.021497314795851707\n",
      "Epoch 60/150\t\tMSE: 0.020579596981406212\n",
      "Epoch 70/150\t\tMSE: 0.020125212147831917\n",
      "Epoch 80/150\t\tMSE: 0.019827531650662422\n",
      "Epoch 90/150\t\tMSE: 0.019592706114053726\n",
      "Epoch 100/150\t\tMSE: 0.019430123269557953\n",
      "Epoch 110/150\t\tMSE: 0.01931978203356266\n",
      "Epoch 120/150\t\tMSE: 0.019243763759732246\n",
      "Epoch 130/150\t\tMSE: 0.019192546606063843\n",
      "Epoch 140/150\t\tMSE: 0.019158026203513145\n",
      "Epoch 150/150\t\tMSE: 0.01913328282535076\n",
      "Validation loss: 0.01824803091585636\n",
      "Learning rate: 0.06\n",
      "====================\n",
      "Fold: 7\n",
      "====================\n",
      "Epoch 10/150\t\tMSE: 0.038640107959508896\n",
      "Epoch 20/150\t\tMSE: 0.03007705695927143\n",
      "Epoch 30/150\t\tMSE: 0.029318807646632195\n",
      "Epoch 40/150\t\tMSE: 0.029459509998559952\n",
      "Epoch 50/150\t\tMSE: 0.029290122911334038\n",
      "Epoch 60/150\t\tMSE: 0.029176315292716026\n",
      "Epoch 70/150\t\tMSE: 0.02911846525967121\n",
      "Epoch 80/150\t\tMSE: 0.029058704152703285\n",
      "Epoch 90/150\t\tMSE: 0.028974022716283798\n",
      "Epoch 100/150\t\tMSE: 0.028847916051745415\n",
      "Epoch 110/150\t\tMSE: 0.02864648588001728\n",
      "Epoch 120/150\t\tMSE: 0.02829342521727085\n",
      "Epoch 130/150\t\tMSE: 0.027585888281464577\n",
      "Epoch 140/150\t\tMSE: 0.025977015495300293\n",
      "Epoch 150/150\t\tMSE: 0.022509826347231865\n",
      "Validation loss: 0.024508580565452576\n",
      "Learning rate: 0.06\n",
      "====================\n",
      "Fold: 8\n",
      "====================\n",
      "Epoch 10/150\t\tMSE: 0.029564982280135155\n",
      "Epoch 20/150\t\tMSE: 0.02785591222345829\n",
      "Epoch 30/150\t\tMSE: 0.024245794862508774\n",
      "Epoch 40/150\t\tMSE: 0.021099401637911797\n",
      "Epoch 50/150\t\tMSE: 0.020426250994205475\n",
      "Epoch 60/150\t\tMSE: 0.01978110894560814\n",
      "Epoch 70/150\t\tMSE: 0.01944900117814541\n",
      "Epoch 80/150\t\tMSE: 0.019329262897372246\n",
      "Epoch 90/150\t\tMSE: 0.01927950792014599\n",
      "Epoch 100/150\t\tMSE: 0.019238654524087906\n",
      "Epoch 110/150\t\tMSE: 0.019208714365959167\n",
      "Epoch 120/150\t\tMSE: 0.019184190779924393\n",
      "Epoch 130/150\t\tMSE: 0.019157705828547478\n",
      "Epoch 140/150\t\tMSE: 0.019128143787384033\n",
      "Epoch 150/150\t\tMSE: 0.01909402571618557\n",
      "Validation loss: 0.016301343217492104\n",
      "Learning rate: 0.06\n",
      "====================\n",
      "Fold: 9\n",
      "====================\n",
      "Epoch 10/150\t\tMSE: 0.039485182613134384\n",
      "Epoch 20/150\t\tMSE: 0.02817210555076599\n",
      "Epoch 30/150\t\tMSE: 0.025383248925209045\n",
      "Epoch 40/150\t\tMSE: 0.023369843140244484\n",
      "Epoch 50/150\t\tMSE: 0.021924959495663643\n",
      "Epoch 60/150\t\tMSE: 0.02084583230316639\n",
      "Epoch 70/150\t\tMSE: 0.02023867331445217\n",
      "Epoch 80/150\t\tMSE: 0.01981419511139393\n",
      "Epoch 90/150\t\tMSE: 0.01949700154364109\n",
      "Epoch 100/150\t\tMSE: 0.01927807927131653\n",
      "Epoch 110/150\t\tMSE: 0.019135838374495506\n",
      "Epoch 120/150\t\tMSE: 0.019047176465392113\n",
      "Epoch 130/150\t\tMSE: 0.01899288408458233\n",
      "Epoch 140/150\t\tMSE: 0.018958669155836105\n",
      "Epoch 150/150\t\tMSE: 0.018935266882181168\n",
      "Validation loss: 0.019888410344719887\n",
      "Learning rate: 0.06\n",
      "====================\n",
      "Fold: 10\n",
      "====================\n",
      "Epoch 10/150\t\tMSE: 0.03125518932938576\n",
      "Epoch 20/150\t\tMSE: 0.031405009329319\n",
      "Epoch 30/150\t\tMSE: 0.030356017872691154\n",
      "Epoch 40/150\t\tMSE: 0.029324211180210114\n",
      "Epoch 50/150\t\tMSE: 0.0294756218791008\n",
      "Epoch 60/150\t\tMSE: 0.02929028682410717\n",
      "Epoch 70/150\t\tMSE: 0.029314721003174782\n",
      "Epoch 80/150\t\tMSE: 0.029290152713656425\n",
      "Epoch 90/150\t\tMSE: 0.029293222352862358\n",
      "Epoch 100/150\t\tMSE: 0.02929004281759262\n",
      "Epoch 110/150\t\tMSE: 0.02929026074707508\n",
      "Epoch 120/150\t\tMSE: 0.029289867728948593\n",
      "Epoch 130/150\t\tMSE: 0.02928975410759449\n",
      "Epoch 140/150\t\tMSE: 0.02928965352475643\n",
      "Epoch 150/150\t\tMSE: 0.029289472848176956\n",
      "Validation loss: 0.03116634488105774\n"
     ]
    }
   ],
   "source": [
    "cross_val_df = pd.concat([final_train_df, final_valid_df])\n",
    "cross_val_df = cross_val_df.sample(frac=1)\n",
    "\n",
    "cross_val_df_data = cross_val_df.drop(columns=[\"quality\"])\n",
    "cross_val_df_label = cross_val_df[\"quality\"]\n",
    "\n",
    "# # Defining the input and the output\n",
    "X = tf.placeholder(\"float\", [None, n_input])\n",
    "Y = tf.placeholder(\"float\", [None, n_output])\n",
    "\n",
    "# Cross Validation\n",
    "kf = KFold(n_splits=10,shuffle=True)\n",
    "\n",
    "cv_dict = {}\n",
    "\n",
    "folds = 1\n",
    "fold_accs = []\n",
    "\n",
    "for train_index, test_index in kf.split(X=cross_val_df):\n",
    "  epoch_holder = []\n",
    "\n",
    "  print(f\"Learning rate: {learning_constant}\")\n",
    "  # cv_dict[f\"Fold_{folds}\"] = []\n",
    "  cv_data_train, cv_data_valid = cross_val_df_data.iloc[train_index], cross_val_df_data.iloc[test_index]\n",
    "  cv_label_train, cv_label_valid = cross_val_df_label.iloc[train_index], cross_val_df_label.iloc[test_index]\n",
    "\n",
    "  cv_data_train = np.array(cv_data_train)\n",
    "  cv_data_valid = np.array(cv_data_valid)\n",
    "\n",
    "  cv_label_train = np.expand_dims(np.array(cv_label_train),axis=(1))\n",
    "  cv_label_valid = np.expand_dims(np.array(cv_label_valid), axis=(1))\n",
    "\n",
    "  print(\"=\"*20)\n",
    "  print(f\"Fold: {folds}\")\n",
    "  print(\"=\"*20)\n",
    "\n",
    "  # Create model\n",
    "  neural_network = some_network(n_input,n_output)\n",
    "\n",
    "  # Define loss and optimizer\n",
    "  loss_fn = tf.reduce_mean(tf.keras.losses.MeanSquaredError()(neural_network(X),Y))\n",
    "\n",
    "  optimizer = tf.train.AdamOptimizer(learning_constant).minimize(loss_fn)\n",
    "\n",
    "  #Initializing the variables\n",
    "  init = tf.global_variables_initializer()\n",
    "\n",
    "  # Training model\n",
    "  with tf.Session() as sess:\n",
    "      sess.run(init)\n",
    "\n",
    "      for epoch in range(cross_val_epochs):\n",
    "        epoch_holder.append(epoch)\n",
    "        sess.run(optimizer, feed_dict={X: cv_data_train, Y: cv_label_train})\n",
    "\n",
    "        if ((epoch+1) % 10 == 0):\n",
    "          pred = tf.nn.relu(neural_network(X))\n",
    "          loss_fn = tf.keras.losses.MeanSquaredError()(pred,Y)\n",
    "          loss = loss_fn.eval({X:cv_data_train, Y:cv_label_train})\n",
    "          print(f\"Epoch {epoch+1}/{cross_val_epochs}\\t\\tMSE: {loss}\")\n",
    "\n",
    "      # Test on validation set\n",
    "      pred = tf.nn.relu(neural_network(X))\n",
    "      loss = loss_fn.eval({X: cv_data_valid, Y:cv_label_valid})\n",
    "      print(f\"Validation loss: {loss}\")\n",
    "      fold_accs.append(loss)\n",
    "      # cv_dict[f\"Fold_{folds}\"].append(loss)  \n",
    "\n",
    "  folds+=1  "
   ]
  },
  {
   "cell_type": "code",
   "execution_count": 29,
   "metadata": {
    "ExecuteTime": {
     "end_time": "2020-11-11T05:20:11.126194Z",
     "start_time": "2020-11-11T05:20:11.111188Z"
    }
   },
   "outputs": [
    {
     "name": "stdout",
     "output_type": "stream",
     "text": [
      "RMSE of each fold in 10-fold cross validation\n",
      "0    0.136943\n",
      "1    0.141364\n",
      "2    0.144312\n",
      "3    0.138460\n",
      "4    0.136431\n",
      "5    0.135085\n",
      "6    0.156552\n",
      "7    0.127677\n",
      "8    0.141026\n",
      "9    0.176540\n",
      "dtype: float32\n",
      "\n",
      "Average RMSE of all folds: 0.14343900978565216\n"
     ]
    }
   ],
   "source": [
    "print(\"RMSE of each fold in 10-fold cross validation\")\n",
    "print(pd.Series(np.sqrt(fold_accs)))\n",
    "rmse_fold_accs = np.mean(np.sqrt(fold_accs))\n",
    "print(f\"\\nAverage RMSE of all folds: {rmse_fold_accs}\")"
   ]
  },
  {
   "cell_type": "code",
   "execution_count": 14,
   "metadata": {
    "ExecuteTime": {
     "end_time": "2020-11-11T05:12:43.756010Z",
     "start_time": "2020-11-11T05:12:43.741010Z"
    },
    "colab": {
     "base_uri": "https://localhost:8080/"
    },
    "executionInfo": {
     "elapsed": 586,
     "status": "ok",
     "timestamp": 1605060612011,
     "user": {
      "displayName": "Choong Jiachenn",
      "photoUrl": "",
      "userId": "05624262555196952372"
     },
     "user_tz": 0
    },
    "id": "ofynHxcWASfh",
    "outputId": "57bf9e9f-90a6-422a-e6a0-7d0e1e9395fe"
   },
   "outputs": [
    {
     "ename": "ZeroDivisionError",
     "evalue": "division by zero",
     "output_type": "error",
     "traceback": [
      "\u001b[1;31m---------------------------------------------------------------------------\u001b[0m",
      "\u001b[1;31mZeroDivisionError\u001b[0m                         Traceback (most recent call last)",
      "\u001b[1;32m<ipython-input-14-ca6186c20f48>\u001b[0m in \u001b[0;36m<module>\u001b[1;34m\u001b[0m\n\u001b[0;32m      1\u001b[0m \u001b[0mcv_df\u001b[0m \u001b[1;33m=\u001b[0m \u001b[0mpd\u001b[0m\u001b[1;33m.\u001b[0m\u001b[0mDataFrame\u001b[0m\u001b[1;33m(\u001b[0m\u001b[0mcv_dict\u001b[0m\u001b[1;33m)\u001b[0m\u001b[1;33m\u001b[0m\u001b[1;33m\u001b[0m\u001b[0m\n\u001b[0;32m      2\u001b[0m \u001b[0mmse_vals\u001b[0m \u001b[1;33m=\u001b[0m \u001b[1;33m[\u001b[0m\u001b[0mvals\u001b[0m \u001b[1;32mfor\u001b[0m \u001b[0mj\u001b[0m \u001b[1;32min\u001b[0m \u001b[0mcv_dict\u001b[0m\u001b[1;33m.\u001b[0m\u001b[0mvalues\u001b[0m\u001b[1;33m(\u001b[0m\u001b[1;33m)\u001b[0m \u001b[1;32mfor\u001b[0m \u001b[0mvals\u001b[0m \u001b[1;32min\u001b[0m \u001b[0mj\u001b[0m\u001b[1;33m]\u001b[0m\u001b[1;33m\u001b[0m\u001b[1;33m\u001b[0m\u001b[0m\n\u001b[1;32m----> 3\u001b[1;33m \u001b[0mrmse_vals\u001b[0m \u001b[1;33m=\u001b[0m \u001b[0msum\u001b[0m\u001b[1;33m(\u001b[0m\u001b[0mmath\u001b[0m\u001b[1;33m.\u001b[0m\u001b[0msqrt\u001b[0m\u001b[1;33m(\u001b[0m\u001b[0mi\u001b[0m\u001b[1;33m)\u001b[0m \u001b[1;32mfor\u001b[0m \u001b[0mi\u001b[0m \u001b[1;32min\u001b[0m \u001b[0mmse_vals\u001b[0m\u001b[1;33m)\u001b[0m\u001b[1;33m/\u001b[0m\u001b[0mlen\u001b[0m\u001b[1;33m(\u001b[0m\u001b[0mmse_vals\u001b[0m\u001b[1;33m)\u001b[0m\u001b[1;33m\u001b[0m\u001b[1;33m\u001b[0m\u001b[0m\n\u001b[0m\u001b[0;32m      4\u001b[0m \u001b[0mprint\u001b[0m\u001b[1;33m(\u001b[0m\u001b[1;34mf\"Average MSE: {sum(mse_vals)/len(mse_vals)}\"\u001b[0m\u001b[1;33m)\u001b[0m\u001b[1;33m\u001b[0m\u001b[1;33m\u001b[0m\u001b[0m\n\u001b[0;32m      5\u001b[0m \u001b[0mprint\u001b[0m\u001b[1;33m(\u001b[0m\u001b[1;34mf\"Average RMSE: {rmse_vals}\"\u001b[0m\u001b[1;33m)\u001b[0m\u001b[1;33m\u001b[0m\u001b[1;33m\u001b[0m\u001b[0m\n",
      "\u001b[1;31mZeroDivisionError\u001b[0m: division by zero"
     ]
    }
   ],
   "source": [
    "cv_df = pd.DataFrame(cv_dict)\n",
    "mse_vals = [vals for j in cv_dict.values() for vals in j]\n",
    "rmse_vals = sum(math.sqrt(i) for i in mse_vals)/len(mse_vals)\n",
    "print(f\"Average MSE: {sum(mse_vals)/len(mse_vals)}\")\n",
    "print(f\"Average RMSE: {rmse_vals}\")"
   ]
  },
  {
   "cell_type": "markdown",
   "metadata": {
    "id": "w5oehteQvOUh"
   },
   "source": [
    "# Testing model on test set"
   ]
  },
  {
   "cell_type": "code",
   "execution_count": 30,
   "metadata": {
    "ExecuteTime": {
     "end_time": "2020-11-11T05:22:06.151590Z",
     "start_time": "2020-11-11T05:22:02.271410Z"
    },
    "colab": {
     "base_uri": "https://localhost:8080/"
    },
    "executionInfo": {
     "elapsed": 16903,
     "status": "ok",
     "timestamp": 1605070739866,
     "user": {
      "displayName": "Choong Jiachenn",
      "photoUrl": "",
      "userId": "05624262555196952372"
     },
     "user_tz": 0
    },
    "id": "2bS9opiVretW",
    "outputId": "00acb600-32ad-47ea-c401-e6b91c90bc8a"
   },
   "outputs": [
    {
     "name": "stdout",
     "output_type": "stream",
     "text": [
      "Epoch 10/400\t Loss: 0.03890253230929375\n",
      "Epoch 20/400\t Loss: 0.031831447035074234\n",
      "Validation loss: 0.031400833278894424\n",
      "Epoch 30/400\t Loss: 0.03057013265788555\n",
      "Epoch 40/400\t Loss: 0.02971179038286209\n",
      "Validation loss: 0.029028482735157013\n",
      "Epoch 50/400\t Loss: 0.028990471735596657\n",
      "Epoch 60/400\t Loss: 0.028099605813622475\n",
      "Validation loss: 0.027205461636185646\n",
      "Epoch 70/400\t Loss: 0.02648300677537918\n",
      "Epoch 80/400\t Loss: 0.02452397532761097\n",
      "Validation loss: 0.023293176665902138\n",
      "Epoch 90/400\t Loss: 0.022503169253468513\n",
      "Epoch 100/400\t Loss: 0.020941980183124542\n",
      "Validation loss: 0.019519120454788208\n",
      "Epoch 110/400\t Loss: 0.020300956442952156\n",
      "Epoch 120/400\t Loss: 0.019946133717894554\n",
      "Validation loss: 0.01841767132282257\n",
      "Epoch 130/400\t Loss: 0.01964975707232952\n",
      "Epoch 140/400\t Loss: 0.019491955637931824\n",
      "Validation loss: 0.01787572167813778\n",
      "Epoch 150/400\t Loss: 0.01940733939409256\n",
      "Epoch 160/400\t Loss: 0.01935441792011261\n",
      "Validation loss: 0.01769912987947464\n",
      "Epoch 170/400\t Loss: 0.019317476078867912\n",
      "Epoch 180/400\t Loss: 0.01928454078733921\n",
      "Validation loss: 0.017654702067375183\n",
      "Epoch 190/400\t Loss: 0.019251830875873566\n",
      "Epoch 200/400\t Loss: 0.019218331202864647\n",
      "Validation loss: 0.01763463020324707\n",
      "Epoch 210/400\t Loss: 0.0191829651594162\n",
      "Epoch 220/400\t Loss: 0.019144613295793533\n",
      "Validation loss: 0.017604436725378036\n",
      "Epoch 230/400\t Loss: 0.019102029502391815\n",
      "Epoch 240/400\t Loss: 0.019053837284445763\n",
      "Validation loss: 0.017560429871082306\n",
      "Epoch 250/400\t Loss: 0.018998868763446808\n",
      "Epoch 260/400\t Loss: 0.01893702894449234\n",
      "Validation loss: 0.017503656446933746\n",
      "Epoch 270/400\t Loss: 0.018869560211896896\n",
      "Epoch 280/400\t Loss: 0.018798455595970154\n",
      "Validation loss: 0.017443427816033363\n",
      "Epoch 290/400\t Loss: 0.018725264817476273\n",
      "Epoch 300/400\t Loss: 0.018651332706212997\n",
      "Validation loss: 0.017390700057148933\n",
      "Epoch 310/400\t Loss: 0.018578043207526207\n",
      "Epoch 320/400\t Loss: 0.01850656233727932\n",
      "Validation loss: 0.017346741631627083\n",
      "Epoch 330/400\t Loss: 0.01843765377998352\n",
      "Epoch 340/400\t Loss: 0.018371593207120895\n",
      "Validation loss: 0.01730671152472496\n",
      "Epoch 350/400\t Loss: 0.018308207392692566\n",
      "Epoch 360/400\t Loss: 0.018246956169605255\n",
      "Validation loss: 0.01725907251238823\n",
      "Epoch 370/400\t Loss: 0.0181870236992836\n",
      "Epoch 380/400\t Loss: 0.01812734641134739\n",
      "Validation loss: 0.017194237560033798\n",
      "Epoch 390/400\t Loss: 0.01806666888296604\n",
      "Epoch 400/400\t Loss: 0.018003642559051514\n",
      "Validation loss: 0.017106859013438225\n",
      "MSE test set: 0.01953885518014431\n",
      "RMSE test set: 0.13978145506519923\n"
     ]
    }
   ],
   "source": [
    "final_train_data = np.array(final_train_df.drop(columns=\"quality\"))\n",
    "final_train_label = np.expand_dims(np.array(final_train_df[\"quality\"]),axis=(1))\n",
    "\n",
    "final_valid_data = np.array(final_valid_df.drop(columns=\"quality\"))\n",
    "final_valid_label = np.expand_dims(np.array(final_valid_df[\"quality\"]),axis=(1))\n",
    "\n",
    "final_test_data = np.array(final_test_df.drop(columns=\"quality\"))\n",
    "final_test_label = np.expand_dims(np.array(final_test_df[\"quality\"]),axis=(1))\n",
    "\n",
    "# Defining the input and the output\n",
    "X = tf.placeholder(\"float\", [None, n_input])\n",
    "Y = tf.placeholder(\"float\", [None, n_output])\n",
    "\n",
    "# Create model\n",
    "neural_network = some_network(n_input,n_output)\n",
    "\n",
    "# Define loss and optimizer\n",
    "loss_fn = tf.reduce_mean(tf.keras.losses.MeanSquaredError()(neural_network(X),Y))\n",
    "\n",
    "optimizer = tf.train.AdamOptimizer(learning_constant).minimize(loss_fn)\n",
    "\n",
    "#Initializing the variables\n",
    "init = tf.global_variables_initializer()\n",
    "\n",
    "epoch_train, epoch_valid = [], []\n",
    "loss_train, loss_valid = [], []\n",
    "\n",
    "# Training model\n",
    "with tf.Session() as sess:\n",
    "    sess.run(init)\n",
    "\n",
    "    # Initialize model, loss function\n",
    "    pred = tf.nn.relu(neural_network(X))\n",
    "    loss_fn = tf.keras.losses.MeanSquaredError()(pred,Y)\n",
    "\n",
    "    # Training epoch\n",
    "    for epoch in range(number_epochs):\n",
    "\n",
    "      sess.run(optimizer, feed_dict={X: final_train_data, Y: final_train_label})\n",
    "      epoch_holder.append(epoch+1)\n",
    "\n",
    "      # Training loss show\n",
    "      if ((epoch+1) % 10 == 0):\n",
    "        epoch_train.append(epoch+1)\n",
    "        loss = loss_fn.eval({X: final_train_data, Y: final_train_label})\n",
    "        loss_train.append(loss)\n",
    "        print(f\"Epoch {epoch+1}/{number_epochs}\\t Loss: {loss}\")\n",
    "\n",
    "      # Validation set eval\n",
    "      if ((epoch+1) % 20 == 0):\n",
    "        epoch_valid.append(epoch+1)\n",
    "        validation_loss = loss_fn.eval({X: final_valid_data, Y: final_valid_label})\n",
    "        loss_valid.append(validation_loss)\n",
    "        print(f\"Validation loss: {validation_loss}\")\n",
    "\n",
    "    # Test model on test set\n",
    "    pred = tf.nn.relu(neural_network(X))\n",
    "    loss = loss_fn.eval({X: final_test_data, Y: final_test_label})\n",
    "\n",
    "    neural_network.save_weights(f\"Regression_model_{number_epochs}_Epochs.h5\")\n",
    "\n",
    "    print(f\"MSE test set: {loss}\")\n",
    "    print(f\"RMSE test set: {math.sqrt(loss)}\")"
   ]
  },
  {
   "cell_type": "markdown",
   "metadata": {
    "id": "8jadzoE0LGeJ"
   },
   "source": [
    "# Graph visualization\n"
   ]
  },
  {
   "cell_type": "code",
   "execution_count": 87,
   "metadata": {
    "colab": {
     "base_uri": "https://localhost:8080/",
     "height": 265
    },
    "executionInfo": {
     "elapsed": 920,
     "status": "ok",
     "timestamp": 1605070740817,
     "user": {
      "displayName": "Choong Jiachenn",
      "photoUrl": "",
      "userId": "05624262555196952372"
     },
     "user_tz": 0
    },
    "id": "Y_GIA7-fg3JJ",
    "outputId": "07e46ce2-1b5d-47fc-ebf2-e79b298284f7"
   },
   "outputs": [
    {
     "data": {
      "image/png": "[encoded data removed]",
      "text/plain": [
       "<Figure size 432x288 with 1 Axes>"
      ]
     },
     "metadata": {
      "needs_background": "light",
      "tags": []
     },
     "output_type": "display_data"
    }
   ],
   "source": [
    "plt.figure()\n",
    "plt.plot(epoch_train, loss_train, label='Train')\n",
    "# plt.plot(epoch_valid, loss_valid, label='Validation')\n",
    "plt.legend()\n",
    "plt.show()"
   ]
  },
  {
   "cell_type": "code",
   "execution_count": 86,
   "metadata": {
    "colab": {
     "base_uri": "https://localhost:8080/",
     "height": 283
    },
    "executionInfo": {
     "elapsed": 650,
     "status": "ok",
     "timestamp": 1605070740529,
     "user": {
      "displayName": "Choong Jiachenn",
      "photoUrl": "",
      "userId": "05624262555196952372"
     },
     "user_tz": 0
    },
    "id": "hu1ZtYZ72rgB",
    "outputId": "aec67bb9-766c-40f3-f93a-bac9dda38254"
   },
   "outputs": [
    {
     "data": {
      "image/png": "[encoded data removed]",
      "text/plain": [
       "<Figure size 432x288 with 1 Axes>"
      ]
     },
     "metadata": {
      "needs_background": "light",
      "tags": []
     },
     "output_type": "display_data"
    },
    {
     "name": "stdout",
     "output_type": "stream",
     "text": [
      "0.01849657\n"
     ]
    }
   ],
   "source": [
    "plt.figure()\n",
    "# plt.plot(epoch_holder, loss_train, label='Train')\n",
    "plt.plot(epoch_valid, loss_valid, label='Validation')\n",
    "plt.legend()\n",
    "plt.show()\n",
    "\n",
    "print(min(loss_valid))"
   ]
  }
 ],
 "metadata": {
  "accelerator": "TPU",
  "colab": {
   "collapsed_sections": [],
   "name": "Regression.ipynb",
   "provenance": []
  },
  "kernelspec": {
   "display_name": "Python 3",
   "language": "python",
   "name": "python3"
  },
  "language_info": {
   "codemirror_mode": {
    "name": "ipython",
    "version": 3
   },
   "file_extension": ".py",
   "mimetype": "text/x-python",
   "name": "python",
   "nbconvert_exporter": "python",
   "pygments_lexer": "ipython3",
   "version": "3.6.12"
  },
  "toc": {
   "base_numbering": 1,
   "nav_menu": {},
   "number_sections": true,
   "sideBar": true,
   "skip_h1_title": false,
   "title_cell": "Table of Contents",
   "title_sidebar": "Contents",
   "toc_cell": false,
   "toc_position": {
    "height": "calc(100% - 180px)",
    "left": "10px",
    "top": "150px",
    "width": "230px"
   },
   "toc_section_display": true,
   "toc_window_display": true
  }
 },
 "nbformat": 4,
 "nbformat_minor": 1
}
